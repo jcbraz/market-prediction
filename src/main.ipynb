{
 "cells": [
  {
   "cell_type": "code",
   "execution_count": 3,
   "metadata": {},
   "outputs": [],
   "source": [
    "import pandas as pd\n",
    "import numpy as np\n",
    "import matplotlib.pyplot as plt\n",
    "from typing import Callable"
   ]
  },
  {
   "cell_type": "code",
   "execution_count": 4,
   "metadata": {},
   "outputs": [],
   "source": [
    "df = pd.read_csv('../data/ETH-USD.csv')\n",
    "\n",
    "length = 14"
   ]
  },
  {
   "cell_type": "code",
   "execution_count": 5,
   "metadata": {},
   "outputs": [],
   "source": [
    "def calc_rsi(over: pd.Series, fn_roll: Callable) -> pd.Series:\n",
    "    # Get the difference in price from previous step\n",
    "    delta = over.diff()\n",
    "    # Get ride of the header\n",
    "    delta = delta[1:] \n",
    "\n",
    "    # Make the positive gains (up) and negative gains (down) Series\n",
    "    up, down = delta.clip(lower=0), delta.clip(upper=0).abs()\n",
    "\n",
    "    roll_up, roll_down = fn_roll(up), fn_roll(down)\n",
    "    rs = roll_up / roll_down\n",
    "    rsi = 100.0 - (100.0 / (1.0 + rs))\n",
    "\n",
    "    # Avoid division-by-zero if `roll_down` is zero\n",
    "    # This prevents inf and/or nan values.\n",
    "    rsi[:] = np.select([roll_down == 0, roll_up == 0, True], [100, 0, rsi])\n",
    "    rsi.name = 'rsi'\n",
    "\n",
    "    # Assert range\n",
    "    valid_rsi = rsi[length - 1:]\n",
    "    assert ((0 <= valid_rsi) & (valid_rsi <= 100)).all()\n",
    "    # Note: rsi[:length - 1] is excluded from above assertion because it is NaN for SMA.\n",
    "\n",
    "    return rsi"
   ]
  },
  {
   "cell_type": "code",
   "execution_count": 6,
   "metadata": {},
   "outputs": [],
   "source": [
    "# rsi_ema = calc_rsi(close, lambda s: s.ewm(span=length).mean())\n",
    "# rsi_sma = calc_rsi(close, lambda s: s.rolling(length).mean())|\n",
    "rsi_rma = calc_rsi(df['Close'], lambda s: s.ewm(alpha=1 / length).mean())  # Approximates TradingView.\n",
    "df['RSI'] = rsi_rma\n",
    "df = df.drop([0,1])\n",
    "\n",
    "# Graph\n",
    "plt.figure(figsize=(8, 6))\n",
    "rsi_rma.plot()\n",
    "plt.legend(['ETH RSI Value'])\n",
    "plt.show()"
   ]
  },
  {
   "cell_type": "code",
   "execution_count": 11,
   "metadata": {},
   "outputs": [],
   "source": [
    "df['RSI-status'] = pd.Series(dtype=str)\n",
    "\n",
    "for index, row in df.iterrows():\n",
    "    if row['RSI'] > 70:\n",
    "        df['RSI-status'] = 'Overbought'\n",
    "    elif row['RSI'] < 30:\n",
    "        df['RSI-status'] = 'Oversold'\n",
    "    else:\n",
    "        df['RSI-status'] = 'Normal'"
   ]
  },
  {
   "cell_type": "code",
   "execution_count": 16,
   "metadata": {},
   "outputs": [],
   "source": [
    "df.to_csv('ethereum-data.csv')"
   ]
  }
 ],
 "metadata": {
  "kernelspec": {
   "display_name": "Python 3",
   "language": "python",
   "name": "python3"
  },
  "language_info": {
   "codemirror_mode": {
    "name": "ipython",
    "version": 3
   },
   "file_extension": ".py",
   "mimetype": "text/x-python",
   "name": "python",
   "nbconvert_exporter": "python",
   "pygments_lexer": "ipython3",
   "version": "3.11.2"
  },
  "orig_nbformat": 4
 },
 "nbformat": 4,
 "nbformat_minor": 2
}
